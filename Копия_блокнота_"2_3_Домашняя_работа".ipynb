{
  "nbformat": 4,
  "nbformat_minor": 0,
  "metadata": {
    "colab": {
      "provenance": [],
      "include_colab_link": true
    },
    "kernelspec": {
      "name": "python3",
      "display_name": "Python 3"
    },
    "language_info": {
      "name": "python"
    }
  },
  "cells": [
    {
      "cell_type": "markdown",
      "metadata": {
        "id": "view-in-github",
        "colab_type": "text"
      },
      "source": [
        "<a href=\"https://colab.research.google.com/github/greenpenguinkaa/greenpenguinkaa/blob/main/%D0%9A%D0%BE%D0%BF%D0%B8%D1%8F_%D0%B1%D0%BB%D0%BE%D0%BA%D0%BD%D0%BE%D1%82%D0%B0_%222_3_%D0%94%D0%BE%D0%BC%D0%B0%D1%88%D0%BD%D1%8F%D1%8F_%D1%80%D0%B0%D0%B1%D0%BE%D1%82%D0%B0%22.ipynb\" target=\"_parent\"><img src=\"https://colab.research.google.com/assets/colab-badge.svg\" alt=\"Open In Colab\"/></a>"
      ]
    },
    {
      "cell_type": "markdown",
      "source": [
        "**Навигация по уроку**\n",
        "\n",
        "1. [Введение в Python. Синтаксис](https://colab.research.google.com/drive/1YBLgd6tZYlkhwpnEc4IM8tVnewLUnlUO#scrollTo=yqZjRAldfz_L)\n",
        "2. [Практика кода](https://colab.research.google.com/drive/1m-Ph90c-9S_gZchdG1ARoY2YjMTryKkl#scrollTo=UdxWiGmA63K2)\n",
        "3. Домашняя работа"
      ],
      "metadata": {
        "id": "ARGgA85EgS0p"
      }
    },
    {
      "cell_type": "markdown",
      "source": [
        "В домашней работе необходимо, используя знания теоретической части занятия и полученные практические навыки, решить, представленные ниже задачи. Для этого необходимо скопировать Блокнот (см. раздел 1.1.), решить в нем все задач, открыть общий доступ к Блокноту ((см. раздел 1.1.) и отправить ссылку на Блокнот куратору на проверку. Для прохождения урока необходимо решить минимум 2 задачи. Желаем удачи!"
      ],
      "metadata": {
        "id": "EdiQPIVgklWr"
      }
    },
    {
      "cell_type": "markdown",
      "source": [
        "## Задача 1. Приветствие."
      ],
      "metadata": {
        "id": "ZzjUAyrL6jgO"
      }
    },
    {
      "cell_type": "markdown",
      "source": [
        "**Условие.** Напишите программу, запрашивающую у пользователя его имя. В ответ\n",
        "на ввод на экране должно появиться приветствие с обращением по имени,\n",
        "введенному с клавиатуры ранее.\n"
      ],
      "metadata": {
        "id": "M4OAOB6s6mU7"
      }
    },
    {
      "cell_type": "code",
      "source": [
        "#Напишите свое решение\n",
        "name = str(input(\"Введите своё имя: \"))\n",
        "print(\"Привет\", name)"
      ],
      "metadata": {
        "id": "C2W-ZDOF6mzF",
        "outputId": "63c8659a-7151-45e4-9fbf-67a7a273dc7a",
        "colab": {
          "base_uri": "https://localhost:8080/"
        }
      },
      "execution_count": null,
      "outputs": [
        {
          "output_type": "stream",
          "name": "stdout",
          "text": [
            "Введите своё имя: Nikita\n",
            "Привет Nikita\n"
          ]
        }
      ]
    },
    {
      "cell_type": "markdown",
      "source": [
        "## Задача 2. Сувениры и безделушки."
      ],
      "metadata": {
        "id": "UG8mwj2-eALV"
      }
    },
    {
      "cell_type": "markdown",
      "source": [
        "**Условие.** Интернет-магазин занимается продажей различных сувениров и безделушек. Каждый сувенир весит 75 г, а безделушка – 112 г. Напишите программу, запрашивающую у пользователя количество тех и других покупок,\n",
        "после чего выведите на экран общий вес посылки.\n"
      ],
      "metadata": {
        "id": "ay2EfeBreALW"
      }
    },
    {
      "cell_type": "code",
      "source": [
        "#Напишите свое решение\n",
        "count_suv = int(input(\"Введите количество сувениров: \"))\n",
        "count_bez = int(input(\"Введите количество безделушек: \"))\n",
        "suv = 75\n",
        "bez = 112\n",
        "total_suv = count_suv * suv\n",
        "total_bez = count_bez * bez\n",
        "result = total_suv + total_bez\n",
        "print(\"Общий вес посылки: \", result)"
      ],
      "metadata": {
        "id": "WY-KRVHyeALX",
        "colab": {
          "base_uri": "https://localhost:8080/"
        },
        "outputId": "e6ff9b2e-87a4-46d7-8acb-07eeed6f3954"
      },
      "execution_count": 1,
      "outputs": [
        {
          "output_type": "stream",
          "name": "stdout",
          "text": [
            "Введите количество сувениров: 20\n",
            "Введите количество безделушек: 10\n",
            "Общий вес посылки:  2620\n"
          ]
        }
      ]
    },
    {
      "cell_type": "markdown",
      "source": [
        "## Задача 3. Сложные проценты"
      ],
      "metadata": {
        "id": "v2IXqDTVeBfM"
      }
    },
    {
      "cell_type": "markdown",
      "source": [
        "**Условие.** Представьте, что вы открыли в банке сберегательный счет под 4 % годовых. Проценты банк рассчитывает в конце года и добавляет к сумме счета.\n",
        "Напишите программу, которая запрашивает у пользователя сумму первоначального депозита, после чего рассчитывает и выводит на экран сумму\n",
        "на счету в конце первого, второго и третьего годов. Все суммы должны\n",
        "быть округлены до двух знаков после запятой.\n",
        "\n"
      ],
      "metadata": {
        "id": "rGE3sh2ueBfN"
      }
    },
    {
      "cell_type": "code",
      "source": [
        "#Напишите свое решение\n",
        "deposit = int(input(\"Сколько денег вы положили на депозит? \"))\n",
        "deposit_after_one_year = deposit + deposit*0.04\n",
        "deposit_after_two_year = deposit_after_one_year + deposit_after_one_year*0.04\n",
        "deposit_after_three_year = deposit_after_two_year + deposit_after_two_year*0.04\n",
        "\n",
        "print(\"Депозит после первого года:\", deposit_after_one_year)\n",
        "print(\"Депозит после второго года:\", deposit_after_two_year)\n",
        "print(\"Депозит после третьго года:\", deposit_after_three_year)"
      ],
      "metadata": {
        "id": "0DYIIu98eBfN",
        "colab": {
          "base_uri": "https://localhost:8080/"
        },
        "outputId": "9d85879f-ab04-428d-b4fb-4b97120b5dac"
      },
      "execution_count": 4,
      "outputs": [
        {
          "output_type": "stream",
          "name": "stdout",
          "text": [
            "Сколько денег вы положили на депозит? 100\n",
            "Депозит после первого года: 104.0\n",
            "Депозит после второго года: 108.16\n",
            "Депозит после третьго года: 112.4864\n"
          ]
        }
      ]
    },
    {
      "cell_type": "markdown",
      "source": [
        "## Задача 4. Арифметика"
      ],
      "metadata": {
        "id": "d9y6YzAvuW4l"
      }
    },
    {
      "cell_type": "markdown",
      "source": [
        "**Условие.** Создайте программу, которая запрашивает у пользователя два целых числа a и b, после чего выводит на экран результаты следующих математических операций:\n",
        "* сумма a и b;\n",
        "* разница между a и b;\n",
        "* произведение a и b;\n",
        "* частное от деления a на b;\n",
        "* остаток от деления a на b;\n",
        "* десятичный логарифм числа a;\n",
        "* результат возведения числа a в степень b."
      ],
      "metadata": {
        "id": "ZeZZ2IrUuW4m"
      }
    },
    {
      "cell_type": "code",
      "source": [
        "#Напишите свое решение\n",
        "import math\n",
        "\n",
        "a = int(input(\"Введите первое число: \"))\n",
        "b = int(input(\"Введите второе число: \"))\n",
        "print(\"Сумма\", a+b)\n",
        "print(\"Разница a-b\", a-b)\n",
        "print(\"Разница b-a\", b-a)\n",
        "print(\"Произведение\", a*b)\n",
        "print(\"Частное\", a/b)\n",
        "print(\"Остаток\", a%b)\n",
        "print(\"Десятичный логарифм числа а\", math.log10(a))\n",
        "print(\"Hезультат возведения числа a в степень b\", a**b)"
      ],
      "metadata": {
        "id": "gCbjinmpuW4m",
        "colab": {
          "base_uri": "https://localhost:8080/"
        },
        "outputId": "c8950145-966b-4f57-f95d-bf75a5344a63"
      },
      "execution_count": 8,
      "outputs": [
        {
          "output_type": "stream",
          "name": "stdout",
          "text": [
            "Введите первое число: 100\n",
            "Введите второе число: 2\n",
            "Сумма 102\n",
            "Разница a-b 98\n",
            "Разница b-a -98\n",
            "Произведение 200\n",
            "Частное 50.0\n",
            "Остаток 0\n",
            "Десятичный логарифм числа а 2.0\n",
            "Hезультат возведения числа a в степень b 10000\n"
          ]
        }
      ]
    },
    {
      "cell_type": "markdown",
      "source": [
        "## Задача 5. Размен"
      ],
      "metadata": {
        "id": "EcSSCSnpeBto"
      }
    },
    {
      "cell_type": "markdown",
      "source": [
        "**Условие.** Представьте, что вы пишете программное обеспечение для автоматической кассы в  магазине самообслуживания. Одной из функций, заложенных в кассу, должен быть расчет сдачи в случае оплаты покупателем наличными.\n",
        "Напишите программу, которая будет запрашивать у пользователя сумму сдачи в копейках. После этого она должна рассчитать и вывести на экран, сколько и каких монет потребуется для выдачи указанной суммы, при условии что должно быть задействовано минимально возможное количество монет. Допустим, у нас есть в распоряжении монеты достоинством в 1, 5, 10, 50 копеек, а также в 1, 2 и 5 рублей.\n"
      ],
      "metadata": {
        "id": "VfX5FQQreBtp"
      }
    },
    {
      "cell_type": "code",
      "source": [
        "#Напишите свое решение\n",
        "\n",
        "KOPEIKA = 1\n",
        "FIVE_KOPEEK = 5\n",
        "TEN_KOPEEK = 10\n",
        "FIFTY_KOPEEK = 50\n",
        "RUBL = 100\n",
        "TWO_RUBL = 200\n",
        "FIVE_RUBL = 500\n",
        "\n",
        "change = int(input(\"Введите сумму сдачи в копейках: \"))\n",
        "\n",
        "count_five_rubl = change//FIVE_RUBL\n",
        "change = change % FIVE_RUBL\n",
        "count_two_rubl = change//TWO_RUBL\n",
        "change = change % TWO_RUBL\n",
        "count_rubl = change//RUBL\n",
        "change = change % RUBL\n",
        "\n",
        "count_fifty_kopeek = change//FIFTY_KOPEEK\n",
        "change = change % FIFTY_KOPEEK\n",
        "count_ten_kopeek = change//TEN_KOPEEK\n",
        "change = change % TEN_KOPEEK\n",
        "count_five_kopeek = change//FIVE_KOPEEK\n",
        "change = change % FIVE_KOPEEK\n",
        "count_kopeek = change//KOPEIKA\n",
        "change = change % KOPEIKA\n",
        "\n",
        "\n",
        "\n",
        "print(\"Сдача по монетам: \", \\\n",
        "      \"По пять рублей %d, по два рубля %d, по одному рублю %d, по пятдесят копеек %d, по десять копеек %d, по пять копеек %d, и по одной копеёке %d.\" % (count_five_rubl, count_two_rubl, count_rubl, count_fifty_kopeek, count_ten_kopeek, count_five_kopeek, count_kopeek))"
      ],
      "metadata": {
        "id": "4ecMH2bjeBtp",
        "colab": {
          "base_uri": "https://localhost:8080/"
        },
        "outputId": "f9be14e8-d132-4e3e-9492-67ddd7083d09"
      },
      "execution_count": 24,
      "outputs": [
        {
          "output_type": "stream",
          "name": "stdout",
          "text": [
            "Введите сумму сдачи в копейках: 1256\n",
            "Сдача по монетам:  По пять рублей 2, по два рубля 1, по одному рублю 0, по пятдесят копеек 1, по десять копеек 0, по пять копеек 1, и по одной копеёке 1.\n"
          ]
        }
      ]
    },
    {
      "cell_type": "markdown",
      "source": [
        "## Задача 6. Вчерашний хлеб"
      ],
      "metadata": {
        "id": "26soP3cfeB8i"
      }
    },
    {
      "cell_type": "markdown",
      "source": [
        "**Условие.** Пекарня продает хлеб по 49 рублей за буханку. Скидка на вчерашний хлеб составляет 60 %. Напишите программу, которая будет запрашивать у пользователя количество приобретенных вчерашних буханок хлеба. В вывод на экран должны быть включены обычная цена за буханку, цена со скидкой и общая стоимость приобретенного хлеба. Все значения должны быть выведены на отдельных строках с соответствующими описаниями. Используйте для вывода формат с двумя знаками после запятой и 5-ю знакоместами.\n"
      ],
      "metadata": {
        "id": "t-cYNmWQeB8i"
      }
    },
    {
      "cell_type": "code",
      "source": [
        "#Напишите свое решение\n",
        "\n",
        "bread = 49\n",
        "yest_bread = 49*0.4\n",
        "count = int(input(\"Сколько купили вчерашнего хлеба? \"))\n",
        "result = yest_bread * count\n",
        "\n",
        "print(\"Цена за буханку хлеба: %5.2f\" % bread)\n",
        "print(\"Цена за буханку вчерашнего хлеба: %5.2f\" % yest_bread)\n",
        "print(\"Общай стоимость вчерашних буханок хлеба: %5.2f\" % result)"
      ],
      "metadata": {
        "id": "R2-WoQoveB8j",
        "colab": {
          "base_uri": "https://localhost:8080/"
        },
        "outputId": "f01849e8-b7ee-4287-d1e3-22301d4f3c5c"
      },
      "execution_count": 33,
      "outputs": [
        {
          "output_type": "stream",
          "name": "stdout",
          "text": [
            "Сколько купили вчерашнего хлеба? 3\n",
            "Цена за буханку хлеба: 49.00\n",
            "Цена за буханку вчерашнего хлеба: 19.60\n",
            "Общай стоимость вчерашних буханок хлеба: 58.80\n"
          ]
        }
      ]
    }
  ]
}