{
  "nbformat": 4,
  "nbformat_minor": 0,
  "metadata": {
    "colab": {
      "provenance": [],
      "authorship_tag": "ABX9TyMjUv+B6eBAwc/n3NVO0zCp"
    },
    "kernelspec": {
      "name": "python3",
      "display_name": "Python 3"
    },
    "language_info": {
      "name": "python"
    }
  },
  "cells": [
    {
      "cell_type": "code",
      "execution_count": 5,
      "metadata": {
        "colab": {
          "base_uri": "https://localhost:8080/"
        },
        "id": "VMagxwYGwlXK",
        "outputId": "212a8be5-1b57-479d-f44c-b75081431fe9"
      },
      "outputs": [
        {
          "output_type": "stream",
          "name": "stdout",
          "text": [
            "Requirement already satisfied: streamlit in /usr/local/lib/python3.11/dist-packages (1.44.1)\n",
            "Requirement already satisfied: altair<6,>=4.0 in /usr/local/lib/python3.11/dist-packages (from streamlit) (5.5.0)\n",
            "Requirement already satisfied: blinker<2,>=1.0.0 in /usr/local/lib/python3.11/dist-packages (from streamlit) (1.9.0)\n",
            "Requirement already satisfied: cachetools<6,>=4.0 in /usr/local/lib/python3.11/dist-packages (from streamlit) (5.5.2)\n",
            "Requirement already satisfied: click<9,>=7.0 in /usr/local/lib/python3.11/dist-packages (from streamlit) (8.1.8)\n",
            "Requirement already satisfied: numpy<3,>=1.23 in /usr/local/lib/python3.11/dist-packages (from streamlit) (2.0.2)\n",
            "Requirement already satisfied: packaging<25,>=20 in /usr/local/lib/python3.11/dist-packages (from streamlit) (24.2)\n",
            "Requirement already satisfied: pandas<3,>=1.4.0 in /usr/local/lib/python3.11/dist-packages (from streamlit) (2.2.2)\n",
            "Requirement already satisfied: pillow<12,>=7.1.0 in /usr/local/lib/python3.11/dist-packages (from streamlit) (11.1.0)\n",
            "Requirement already satisfied: protobuf<6,>=3.20 in /usr/local/lib/python3.11/dist-packages (from streamlit) (5.29.4)\n",
            "Requirement already satisfied: pyarrow>=7.0 in /usr/local/lib/python3.11/dist-packages (from streamlit) (18.1.0)\n",
            "Requirement already satisfied: requests<3,>=2.27 in /usr/local/lib/python3.11/dist-packages (from streamlit) (2.32.3)\n",
            "Requirement already satisfied: tenacity<10,>=8.1.0 in /usr/local/lib/python3.11/dist-packages (from streamlit) (9.1.2)\n",
            "Requirement already satisfied: toml<2,>=0.10.1 in /usr/local/lib/python3.11/dist-packages (from streamlit) (0.10.2)\n",
            "Requirement already satisfied: typing-extensions<5,>=4.4.0 in /usr/local/lib/python3.11/dist-packages (from streamlit) (4.13.1)\n",
            "Requirement already satisfied: watchdog<7,>=2.1.5 in /usr/local/lib/python3.11/dist-packages (from streamlit) (6.0.0)\n",
            "Requirement already satisfied: gitpython!=3.1.19,<4,>=3.0.7 in /usr/local/lib/python3.11/dist-packages (from streamlit) (3.1.44)\n",
            "Requirement already satisfied: pydeck<1,>=0.8.0b4 in /usr/local/lib/python3.11/dist-packages (from streamlit) (0.9.1)\n",
            "Requirement already satisfied: tornado<7,>=6.0.3 in /usr/local/lib/python3.11/dist-packages (from streamlit) (6.4.2)\n",
            "Requirement already satisfied: jinja2 in /usr/local/lib/python3.11/dist-packages (from altair<6,>=4.0->streamlit) (3.1.6)\n",
            "Requirement already satisfied: jsonschema>=3.0 in /usr/local/lib/python3.11/dist-packages (from altair<6,>=4.0->streamlit) (4.23.0)\n",
            "Requirement already satisfied: narwhals>=1.14.2 in /usr/local/lib/python3.11/dist-packages (from altair<6,>=4.0->streamlit) (1.34.1)\n",
            "Requirement already satisfied: gitdb<5,>=4.0.1 in /usr/local/lib/python3.11/dist-packages (from gitpython!=3.1.19,<4,>=3.0.7->streamlit) (4.0.12)\n",
            "Requirement already satisfied: python-dateutil>=2.8.2 in /usr/local/lib/python3.11/dist-packages (from pandas<3,>=1.4.0->streamlit) (2.8.2)\n",
            "Requirement already satisfied: pytz>=2020.1 in /usr/local/lib/python3.11/dist-packages (from pandas<3,>=1.4.0->streamlit) (2025.2)\n",
            "Requirement already satisfied: tzdata>=2022.7 in /usr/local/lib/python3.11/dist-packages (from pandas<3,>=1.4.0->streamlit) (2025.2)\n",
            "Requirement already satisfied: charset-normalizer<4,>=2 in /usr/local/lib/python3.11/dist-packages (from requests<3,>=2.27->streamlit) (3.4.1)\n",
            "Requirement already satisfied: idna<4,>=2.5 in /usr/local/lib/python3.11/dist-packages (from requests<3,>=2.27->streamlit) (3.10)\n",
            "Requirement already satisfied: urllib3<3,>=1.21.1 in /usr/local/lib/python3.11/dist-packages (from requests<3,>=2.27->streamlit) (2.3.0)\n",
            "Requirement already satisfied: certifi>=2017.4.17 in /usr/local/lib/python3.11/dist-packages (from requests<3,>=2.27->streamlit) (2025.1.31)\n",
            "Requirement already satisfied: smmap<6,>=3.0.1 in /usr/local/lib/python3.11/dist-packages (from gitdb<5,>=4.0.1->gitpython!=3.1.19,<4,>=3.0.7->streamlit) (5.0.2)\n",
            "Requirement already satisfied: MarkupSafe>=2.0 in /usr/local/lib/python3.11/dist-packages (from jinja2->altair<6,>=4.0->streamlit) (3.0.2)\n",
            "Requirement already satisfied: attrs>=22.2.0 in /usr/local/lib/python3.11/dist-packages (from jsonschema>=3.0->altair<6,>=4.0->streamlit) (25.3.0)\n",
            "Requirement already satisfied: jsonschema-specifications>=2023.03.6 in /usr/local/lib/python3.11/dist-packages (from jsonschema>=3.0->altair<6,>=4.0->streamlit) (2024.10.1)\n",
            "Requirement already satisfied: referencing>=0.28.4 in /usr/local/lib/python3.11/dist-packages (from jsonschema>=3.0->altair<6,>=4.0->streamlit) (0.36.2)\n",
            "Requirement already satisfied: rpds-py>=0.7.1 in /usr/local/lib/python3.11/dist-packages (from jsonschema>=3.0->altair<6,>=4.0->streamlit) (0.24.0)\n",
            "Requirement already satisfied: six>=1.5 in /usr/local/lib/python3.11/dist-packages (from python-dateutil>=2.8.2->pandas<3,>=1.4.0->streamlit) (1.17.0)\n"
          ]
        }
      ],
      "source": [
        "!pip install streamlit"
      ]
    },
    {
      "cell_type": "code",
      "source": [
        "import csv\n",
        "import random\n",
        "import numpy as np\n",
        "import matplotlib.pyplot as plt\n",
        "import pandas as pd\n",
        "# df = pd.read_csv(\"datacsv.csv\")\n",
        "\n",
        "# Fixing random state for reproducibility\n",
        "np.random.seed(19680801)\n",
        "\n",
        "from google.colab import drive\n",
        "drive.mount('/content/drive')\n",
        "\n",
        "df = pd.read_excel('/content/drive/My Drive/datacsvBreak1.xlsx')"
      ],
      "metadata": {
        "colab": {
          "base_uri": "https://localhost:8080/"
        },
        "id": "zoBaJGXzIPTN",
        "outputId": "2acd8cff-a9e7-4d8e-c7ef-41c4cd08a140"
      },
      "execution_count": 67,
      "outputs": [
        {
          "output_type": "stream",
          "name": "stdout",
          "text": [
            "Drive already mounted at /content/drive; to attempt to forcibly remount, call drive.mount(\"/content/drive\", force_remount=True).\n"
          ]
        }
      ]
    },
    {
      "cell_type": "code",
      "source": [
        "%%writefile main.py\n",
        "\n",
        "import streamlit as st\n",
        "import pandas as pd\n",
        "import numpy as np\n",
        "import csv\n",
        "import random\n",
        "from sklearn.model_selection import train_test_split\n",
        "from sklearn.tree import DecisionTreeClassifier\n",
        "from sklearn.ensemble import RandomForestClassifier\n",
        "import tensorflow as tf\n",
        "from tensorflow.keras.layers import SimpleRNN, Dense, LSTM\n",
        "\n",
        "# Чтение и сохранение содержимого Excel файла\n",
        "read_file = pd.read_excel(\"/content/drive/My Drive/datacsvBreak1.xlsx\")\n",
        "read_file.to_csv(\"datacsvBreak1.csv\", index=None, header=True)\n",
        "\n",
        "# Чтение CSV файла и преобразование в объект DataFrame\n",
        "df = pd.read_csv(\"datacsvBreak1.csv\")\n",
        "st.write(df)\n",
        "\n",
        "# Генерация дополнительных данных\n",
        "num = 1\n",
        "listType = [\"БП\", \"УМ\"]\n",
        "data_names = [\"№\", \"Тип устройства\", \"Отказ\", \"Время\", \"Температура уст-ва\", \"Температура среды\", \"Категория\", \"Потребляемая мощность\"]\n",
        "listD = [data_names]\n",
        "\n",
        "for i in range(12000):\n",
        "    listElem = [num, random.choice(listType), 0, 8760, random.randint(5, 70), random.randint(-25, 38), random.choice([1, 2]), random.randint(1, 250)]\n",
        "    listD.append(listElem)\n",
        "    num += 1\n",
        "\n",
        "# Сохранение сгенерированных данных в CSV файл\n",
        "with open('datacsvAll.csv', 'w', newline='') as f:\n",
        "    writer = csv.writer(f)\n",
        "    writer.writerows(listD)\n",
        "\n",
        "# Объединение данных из обоих CSV файлов\n",
        "dfA = pd.concat(map(pd.read_csv, ['datacsvBreak1.csv', 'datacsvAll.csv']), ignore_index=True)\n",
        "\n",
        "# Подготовка данных для обучения модели\n",
        "X = dfA[[\"Температура уст-ва\", \"Температура среды\", \"Категория\", \"Потребляемая мощность\"]]\n",
        "y = dfA[\"Отказ\"]\n",
        "\n",
        "X_train, X_test, y_train, y_test = train_test_split(X, y, test_size=0.2, stratify=y, random_state=42)\n",
        "\n",
        "X_train = np.expand_dims(X_train.values, axis=2)\n",
        "X_test = np.expand_dims(X_test.values, axis=2)\n",
        "\n",
        "# Обучение модели\n",
        "model = tf.keras.Sequential()\n",
        "model.add(LSTM(units=32, input_shape=(4, 1)))\n",
        "model.add(Dense(1, activation='sigmoid'))\n",
        "model.compile(optimizer='adam', loss='binary_crossentropy', metrics=['acc'])\n",
        "history = model.fit(X_train, y_train, validation_split=0.2, epochs=5, batch_size=32, verbose=1)\n",
        "\n",
        "# Ввод значений через Streamlit\n",
        "n1 = st.number_input(\"Температура уст-ва\", key=\"tu\")  # элемент ввод значения\n",
        "n2 = st.number_input(\"Температура среды\", key=\"ts\")   # элемент ввод значения\n",
        "n3 = st.number_input(\"Потребляемая мощность\", key=\"power\")  # элемент ввод значения\n",
        "# n4 = st.selectbox('Категория ремонтопригодности?', [1, 2])  # выбор категории\n",
        "\n",
        "if st.button('Предсказание!'):\n",
        "    # Подготовка входных данных для предсказания\n",
        "    input_array = np.array([[n1, n2, n3]])  # Входные данные должны содержать все необходимые параметры\n",
        "    input_array = input_array.reshape((1, 3))  # Изменение формы на (1, 4) для одной записи\n",
        "\n",
        "    # Получение предсказания\n",
        "    prediction = model.predict(input_array)\n",
        "    st.write(\"Предсказание: \", float(prediction[0][0]))  # Вывод предсказания"
      ],
      "metadata": {
        "colab": {
          "base_uri": "https://localhost:8080/"
        },
        "id": "p1QN2nFyJg7E",
        "outputId": "c2688951-419f-40a6-e34a-154f0b833bf2"
      },
      "execution_count": 72,
      "outputs": [
        {
          "output_type": "stream",
          "name": "stdout",
          "text": [
            "Overwriting main.py\n"
          ]
        }
      ]
    },
    {
      "cell_type": "code",
      "source": [
        "!streamlit run main.py --server.address=localhost >/content/logs.txt & ssh -o \"StrictHostKeyChecking no\" -R 80:localhost:8501 serveo.net"
      ],
      "metadata": {
        "colab": {
          "base_uri": "https://localhost:8080/"
        },
        "id": "apEGxwiyD7y-",
        "outputId": "b777971f-a995-4327-fedc-b0e469c56e6c"
      },
      "execution_count": 73,
      "outputs": [
        {
          "output_type": "stream",
          "name": "stdout",
          "text": [
            "\u001b[32mForwarding HTTP traffic from https://c7273993fb354228c94cb53b20bf72ef.serveo.net\n",
            "\u001b[0mHTTP request from 79.139.145.143 to https://c7273993fb354228c94cb53b20bf72ef.serveo.net/\n",
            "HTTP request from 79.139.145.143 to https://c7273993fb354228c94cb53b20bf72ef.serveo.net/static/media/SourceSansPro-Regular.DZLUzqI4.woff2\n",
            "HTTP request from 79.139.145.143 to https://c7273993fb354228c94cb53b20bf72ef.serveo.net/static/media/SourceSansPro-SemiBold.sKQIyTMz.woff2\n",
            "HTTP request from 79.139.145.143 to https://c7273993fb354228c94cb53b20bf72ef.serveo.net/static/media/SourceSansPro-Bold.-6c9oR8J.woff2\n",
            "HTTP request from 79.139.145.143 to https://c7273993fb354228c94cb53b20bf72ef.serveo.net/static/js/index.B-cSXLfy.js\n",
            "HTTP request from 79.139.145.143 to https://c7273993fb354228c94cb53b20bf72ef.serveo.net/static/css/index.BOl9eq08.css\n",
            "HTTP request from 79.139.145.143 to https://c7273993fb354228c94cb53b20bf72ef.serveo.net/favicon.png\n",
            "HTTP request from 79.139.145.143 to https://c7273993fb354228c94cb53b20bf72ef.serveo.net/_stcore/health\n",
            "HTTP request from 79.139.145.143 to https://c7273993fb354228c94cb53b20bf72ef.serveo.net/_stcore/host-config\n",
            "HTTP request from 79.139.145.143 to https://c7273993fb354228c94cb53b20bf72ef.serveo.net/_stcore/stream\n",
            "2025-04-16 10:37:42.538441: E external/local_xla/xla/stream_executor/cuda/cuda_fft.cc:477] Unable to register cuFFT factory: Attempting to register factory for plugin cuFFT when one has already been registered\n",
            "WARNING: All log messages before absl::InitializeLog() is called are written to STDERR\n",
            "E0000 00:00:1744799862.566551   30433 cuda_dnn.cc:8310] Unable to register cuDNN factory: Attempting to register factory for plugin cuDNN when one has already been registered\n",
            "E0000 00:00:1744799862.574975   30433 cuda_blas.cc:1418] Unable to register cuBLAS factory: Attempting to register factory for plugin cuBLAS when one has already been registered\n",
            "2025-04-16 10:37:47.836310: E external/local_xla/xla/stream_executor/cuda/cuda_driver.cc:152] failed call to cuInit: INTERNAL: CUDA error: Failed call to cuInit: UNKNOWN ERROR (303)\n",
            "/usr/local/lib/python3.11/dist-packages/keras/src/layers/rnn/rnn.py:200: UserWarning: Do not pass an `input_shape`/`input_dim` argument to a layer. When using Sequential models, prefer using an `Input(shape)` object as the first layer in the model instead.\n",
            "  super().__init__(**kwargs)\n",
            "HTTP request from 79.139.145.143 to https://c7273993fb354228c94cb53b20bf72ef.serveo.net/static/js/index.DsopOKvk.js\n",
            "HTTP request from 79.139.145.143 to https://c7273993fb354228c94cb53b20bf72ef.serveo.net/static/js/FormClearHelper.B56TOIUD.js\n",
            "HTTP request from 79.139.145.143 to https://c7273993fb354228c94cb53b20bf72ef.serveo.net/static/js/withFullScreenWrapper.BvDb1IYP.js\n",
            "HTTP request from 79.139.145.143 to https://c7273993fb354228c94cb53b20bf72ef.serveo.net/static/js/Toolbar.BDz48EIu.js\n",
            "HTTP request from 79.139.145.143 to https://c7273993fb354228c94cb53b20bf72ef.serveo.net/static/js/checkbox.CFqAmEFb.js\n",
            "HTTP request from 79.139.145.143 to https://c7273993fb354228c94cb53b20bf72ef.serveo.net/static/js/mergeWith.DA0rAJcB.js\n",
            "HTTP request from 79.139.145.143 to https://c7273993fb354228c94cb53b20bf72ef.serveo.net/static/js/sprintf.D7DtBTRn.js\n",
            "HTTP request from 79.139.145.143 to https://c7273993fb354228c94cb53b20bf72ef.serveo.net/static/js/createDownloadLinkElement.DZMwyjvU.js\n",
            "HTTP request from 79.139.145.143 to https://c7273993fb354228c94cb53b20bf72ef.serveo.net/static/js/toConsumableArray.BXMHXdEK.js\n",
            "HTTP request from 79.139.145.143 to https://c7273993fb354228c94cb53b20bf72ef.serveo.net/static/js/possibleConstructorReturn.cdV2PGO5.js\n",
            "HTTP request from 79.139.145.143 to https://c7273993fb354228c94cb53b20bf72ef.serveo.net/static/js/createSuper.CsgKz_Fb.js\n",
            "HTTP request from 79.139.145.143 to https://c7273993fb354228c94cb53b20bf72ef.serveo.net/static/js/FileDownload.esm.urHTnoG1.js\n",
            "HTTP request from 79.139.145.143 to https://c7273993fb354228c94cb53b20bf72ef.serveo.net/static/css/index.C5t3M85E.css\n",
            "HTTP request from 79.139.145.143 to https://c7273993fb354228c94cb53b20bf72ef.serveo.net/static/js/uniqueId.Dd1Zs3iN.js\n",
            "HTTP request from 79.139.145.143 to https://c7273993fb354228c94cb53b20bf72ef.serveo.net/static/js/index.Bl-BqJMM.js\n",
            "HTTP request from 79.139.145.143 to https://c7273993fb354228c94cb53b20bf72ef.serveo.net/static/js/InputInstructions.55wIEZQg.js\n",
            "HTTP request from 79.139.145.143 to https://c7273993fb354228c94cb53b20bf72ef.serveo.net/static/js/input.DG8cw326.js\n",
            "HTTP request from 79.139.145.143 to https://c7273993fb354228c94cb53b20bf72ef.serveo.net/static/js/base-input.CPpHElOA.js\n",
            "HTTP request from 79.139.145.143 to https://c7273993fb354228c94cb53b20bf72ef.serveo.net/static/js/index.DKn_lTbw.js\n",
            "/usr/local/lib/python3.11/dist-packages/keras/src/layers/rnn/rnn.py:200: UserWarning: Do not pass an `input_shape`/`input_dim` argument to a layer. When using Sequential models, prefer using an `Input(shape)` object as the first layer in the model instead.\n",
            "  super().__init__(**kwargs)\n",
            "/usr/local/lib/python3.11/dist-packages/keras/src/layers/rnn/rnn.py:200: UserWarning: Do not pass an `input_shape`/`input_dim` argument to a layer. When using Sequential models, prefer using an `Input(shape)` object as the first layer in the model instead.\n",
            "  super().__init__(**kwargs)\n",
            "/usr/local/lib/python3.11/dist-packages/keras/src/layers/rnn/rnn.py:200: UserWarning: Do not pass an `input_shape`/`input_dim` argument to a layer. When using Sequential models, prefer using an `Input(shape)` object as the first layer in the model instead.\n",
            "  super().__init__(**kwargs)\n",
            "/usr/local/lib/python3.11/dist-packages/keras/src/layers/rnn/rnn.py:200: UserWarning: Do not pass an `input_shape`/`input_dim` argument to a layer. When using Sequential models, prefer using an `Input(shape)` object as the first layer in the model instead.\n",
            "  super().__init__(**kwargs)\n",
            "/usr/local/lib/python3.11/dist-packages/keras/src/layers/rnn/rnn.py:200: UserWarning: Do not pass an `input_shape`/`input_dim` argument to a layer. When using Sequential models, prefer using an `Input(shape)` object as the first layer in the model instead.\n",
            "  super().__init__(**kwargs)\n",
            "HTTP request from 79.139.145.143 to https://c7273993fb354228c94cb53b20bf72ef.serveo.net/static/media/SourceCodePro-Regular.CBOlD63d.woff2\n"
          ]
        }
      ]
    }
  ]
}