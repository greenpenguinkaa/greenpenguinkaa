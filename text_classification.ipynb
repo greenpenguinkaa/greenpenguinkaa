{
  "nbformat": 4,
  "nbformat_minor": 0,
  "metadata": {
    "colab": {
      "provenance": [],
      "gpuType": "T4"
    },
    "kernelspec": {
      "name": "python3",
      "display_name": "Python 3"
    },
    "language_info": {
      "name": "python"
    },
    "accelerator": "GPU"
  },
  "cells": [
    {
      "cell_type": "markdown",
      "source": [
        "# Классификация текста с помощью трансформеров: сравнительный анализ с традиционными методами"
      ],
      "metadata": {
        "id": "7Mnk3Me3inD6"
      }
    },
    {
      "cell_type": "markdown",
      "source": [
        "# **Автор**: Никита  \n",
        "#  **Дата**: Август 2025  \n",
        "# **Email**: greenpenguinkaa@gmail.com  "
      ],
      "metadata": {
        "id": "8ZDmhFuvu2Vk"
      }
    },
    {
      "cell_type": "markdown",
      "source": [
        "Аннотация Цель данной работы — разработка системы аномальной детекции в промышленном оборудовании с использованием вариационных автокодировщиков (VAE) на основе SECOM Dataset (UCI ML Repository).\n",
        "\n",
        "The purpose of this work is to develop an anomaly detection system in industrial equipment using variational autoencoders (VAE) based on the SECOM Dataset (UCI ML Repository)."
      ],
      "metadata": {
        "id": "E9rwIl7evNU1"
      }
    },
    {
      "cell_type": "code",
      "source": [
        "import os\n",
        "import numpy as np\n",
        "import pandas as pd\n",
        "import tensorflow as tf\n",
        "from tensorflow.keras import layers, Model\n",
        "from sklearn.preprocessing import StandardScaler\n",
        "from sklearn.metrics import roc_auc_score, roc_curve, f1_score\n",
        "import matplotlib.pyplot as plt\n",
        "\n",
        "# Загрузка данных SECOM\n",
        "data_url = 'https://archive.ics.uci.edu/ml/machine-learning-databases/secom/secom.data'\n",
        "labels_url = 'https://archive.ics.uci.edu/ml/machine-learning-databases/secom/secom_labels.data'\n",
        "\n",
        "if not os.path.exists('secom.data'):\n",
        "    os.system(f'wget -q {data_url}')\n",
        "if not os.path.exists('secom_labels.data'):\n",
        "    os.system(f'wget -q {labels_url}')\n",
        "\n",
        "data = pd.read_csv('secom.data', delim_whitespace=True, header=None)\n",
        "labels = pd.read_csv('secom_labels.data', delim_whitespace=True, header=None)\n",
        "\n",
        "# Согласуем размеры данных и меток\n",
        "print(f\"Изначальные размеры: data={data.shape}, labels={labels.shape}\")\n",
        "\n",
        "# Приводим метки к числовому типу, неконвертируемые в NaN\n",
        "y_numeric = pd.to_numeric(labels[0], errors='coerce')\n",
        "print(f\"Пропущенных значений в метках: {y_numeric.isna().sum()}\")"
      ],
      "metadata": {
        "colab": {
          "base_uri": "https://localhost:8080/"
        },
        "id": "JYaQOcYnovFM",
        "outputId": "9a4b44be-fe62-4f48-ddd1-5ef42eacd099"
      },
      "execution_count": null,
      "outputs": [
        {
          "output_type": "stream",
          "name": "stderr",
          "text": [
            "/tmp/ipython-input-31586099.py:19: FutureWarning: The 'delim_whitespace' keyword in pd.read_csv is deprecated and will be removed in a future version. Use ``sep='\\s+'`` instead\n",
            "  data = pd.read_csv('secom.data', delim_whitespace=True, header=None)\n"
          ]
        },
        {
          "output_type": "stream",
          "name": "stdout",
          "text": [
            "Изначальные размеры: data=(1567, 590), labels=(1567, 2)\n",
            "Пропущенных значений в метках: 0\n"
          ]
        },
        {
          "output_type": "stream",
          "name": "stderr",
          "text": [
            "/tmp/ipython-input-31586099.py:20: FutureWarning: The 'delim_whitespace' keyword in pd.read_csv is deprecated and will be removed in a future version. Use ``sep='\\s+'`` instead\n",
            "  labels = pd.read_csv('secom_labels.data', delim_whitespace=True, header=None)\n"
          ]
        }
      ]
    },
    {
      "cell_type": "code",
      "source": [
        "# Фильтруем данные и метки, чтобы убрать строки с пропусками в метках\n",
        "mask = ~y_numeric.isna()\n",
        "data = data.loc[mask].reset_index(drop=True)\n",
        "y_numeric = y_numeric.loc[mask].reset_index(drop=True)\n",
        "\n",
        "print(f\"Размеры после фильтрации: data={data.shape}, labels={y_numeric.shape}\")\n",
        "\n",
        "# Удаляем колонки с пропусками более 50%\n",
        "thresh = int(data.shape[0] * 0.5)\n",
        "data = data.dropna(axis=1, thresh=thresh)\n",
        "data = data.fillna(data.median())\n",
        "\n",
        "# Нормализация данных\n",
        "scaler = StandardScaler()\n",
        "X = scaler.fit_transform(data)\n",
        "\n",
        "# Приводим метки к бинарным: 1 - аномалия, 0 - нормальный пример\n",
        "y = np.where(y_numeric == 1, 1, 0)\n",
        "\n",
        "print(f\"Распределение меток: {np.unique(y, return_counts=True)}\")"
      ],
      "metadata": {
        "colab": {
          "base_uri": "https://localhost:8080/"
        },
        "id": "4wldvaVDo1ek",
        "outputId": "9ecd167f-a9c0-483c-d6a2-da28dfbc3998"
      },
      "execution_count": null,
      "outputs": [
        {
          "output_type": "stream",
          "name": "stdout",
          "text": [
            "Размеры после фильтрации: data=(1567, 590), labels=(1567,)\n",
            "Распределение меток: (array([0, 1]), array([1463,  104]))\n"
          ]
        }
      ]
    },
    {
      "cell_type": "code",
      "source": [
        "# Делим на train (только нормальные) и тест (все)\n",
        "X_train = X[y == 0]\n",
        "X_test = X\n",
        "y_test = y\n",
        "\n",
        "print(f\"Train set size (нормальные): {X_train.shape[0]}\")\n",
        "print(f\"Test set size: {X_test.shape[0]}\")\n",
        "\n",
        "# Определение модели VAE с кастомным слоем потерь\n",
        "input_dim = X_train.shape[1]\n",
        "latent_dim = 10\n",
        "beta = 1.0\n",
        "\n",
        "inputs = layers.Input(shape=(input_dim,))\n",
        "h = layers.Dense(128, activation='relu')(inputs)\n",
        "h = layers.Dense(64, activation='relu')(h)\n",
        "\n",
        "z_mean = layers.Dense(latent_dim)(h)\n",
        "z_log_var = layers.Dense(latent_dim)(h)\n",
        "\n",
        "def sampling(args):\n",
        "    z_mean, z_log_var = args\n",
        "    epsilon = tf.random.normal(shape=(tf.shape(z_mean)[0], latent_dim))\n",
        "    return z_mean + tf.exp(0.5 * z_log_var) * epsilon\n",
        "\n",
        "z = layers.Lambda(sampling)([z_mean, z_log_var])\n",
        "\n",
        "decoder_h1 = layers.Dense(64, activation='relu')\n",
        "decoder_h2 = layers.Dense(128, activation='relu')\n",
        "decoder_out = layers.Dense(input_dim)\n",
        "\n",
        "h_decoded = decoder_h1(z)\n",
        "h_decoded = decoder_h2(h_decoded)\n",
        "outputs = decoder_out(h_decoded)"
      ],
      "metadata": {
        "colab": {
          "base_uri": "https://localhost:8080/"
        },
        "id": "Wyp24VLJo6d2",
        "outputId": "7a821a19-de02-4436-b704-034807919dad"
      },
      "execution_count": null,
      "outputs": [
        {
          "output_type": "stream",
          "name": "stdout",
          "text": [
            "Train set size (нормальные): 1463\n",
            "Test set size: 1567\n"
          ]
        }
      ]
    },
    {
      "cell_type": "code",
      "source": [
        "class VAELossLayer(tf.keras.layers.Layer):\n",
        "    def __init__(self, beta=1.0, **kwargs):\n",
        "        super().__init__(**kwargs)\n",
        "        self.beta = beta\n",
        "\n",
        "    def call(self, inputs):\n",
        "        x, x_decoded, z_mean, z_log_var = inputs\n",
        "        reconstruction_loss = tf.reduce_mean(tf.square(x - x_decoded), axis=1)\n",
        "        kl_loss = -0.5 * tf.reduce_sum(1 + z_log_var - tf.square(z_mean) - tf.exp(z_log_var), axis=1)\n",
        "        loss = tf.reduce_mean(reconstruction_loss + self.beta * kl_loss)\n",
        "        self.add_loss(loss)\n",
        "        return x_decoded\n",
        "\n",
        "outputs_with_loss = VAELossLayer(beta=beta)([inputs, outputs, z_mean, z_log_var])"
      ],
      "metadata": {
        "id": "2oMSpOtZo-93"
      },
      "execution_count": null,
      "outputs": []
    },
    {
      "cell_type": "code",
      "source": [
        "vae = Model(inputs, outputs_with_loss)\n",
        "vae.compile(optimizer='adam')\n",
        "vae.summary()\n",
        "\n",
        "# Обучение\n",
        "history = vae.fit(X_train, epochs=50, batch_size=128, validation_split=0.1, verbose=2)\n",
        "\n",
        "# Оценка\n",
        "X_pred = vae.predict(X_test)\n",
        "recon_error = np.mean(np.square(X_test - X_pred), axis=1)\n",
        "\n",
        "auc = roc_auc_score(y_test, recon_error)\n",
        "print(f\"\\nROC AUC: {auc:.4f}\")\n",
        "\n",
        "fpr, tpr, thresholds = roc_curve(y_test, recon_error)\n",
        "f1_scores = [f1_score(y_test, recon_error > thr) for thr in thresholds]\n",
        "best_idx = np.argmax(f1_scores)\n",
        "best_threshold = thresholds[best_idx]\n",
        "print(f\"Best threshold: {best_threshold:.4f}, Best F1: {f1_scores[best_idx]:.4f}\")"
      ],
      "metadata": {
        "colab": {
          "base_uri": "https://localhost:8080/",
          "height": 1000
        },
        "id": "c57mw9T6pDG-",
        "outputId": "d8d8c028-d4de-41f0-8ffd-f3bef6363434"
      },
      "execution_count": null,
      "outputs": [
        {
          "output_type": "display_data",
          "data": {
            "text/plain": [
              "\u001b[1mModel: \"functional_4\"\u001b[0m\n"
            ],
            "text/html": [
              "<pre style=\"white-space:pre;overflow-x:auto;line-height:normal;font-family:Menlo,'DejaVu Sans Mono',consolas,'Courier New',monospace\"><span style=\"font-weight: bold\">Model: \"functional_4\"</span>\n",
              "</pre>\n"
            ]
          },
          "metadata": {}
        },
        {
          "output_type": "display_data",
          "data": {
            "text/plain": [
              "┏━━━━━━━━━━━━━━━━━━━━━┳━━━━━━━━━━━━━━━━━━━┳━━━━━━━━━━━━┳━━━━━━━━━━━━━━━━━━━┓\n",
              "┃\u001b[1m \u001b[0m\u001b[1mLayer (type)       \u001b[0m\u001b[1m \u001b[0m┃\u001b[1m \u001b[0m\u001b[1mOutput Shape     \u001b[0m\u001b[1m \u001b[0m┃\u001b[1m \u001b[0m\u001b[1m   Param #\u001b[0m\u001b[1m \u001b[0m┃\u001b[1m \u001b[0m\u001b[1mConnected to     \u001b[0m\u001b[1m \u001b[0m┃\n",
              "┡━━━━━━━━━━━━━━━━━━━━━╇━━━━━━━━━━━━━━━━━━━╇━━━━━━━━━━━━╇━━━━━━━━━━━━━━━━━━━┩\n",
              "│ input_layer_3       │ (\u001b[38;5;45mNone\u001b[0m, \u001b[38;5;34m562\u001b[0m)       │          \u001b[38;5;34m0\u001b[0m │ -                 │\n",
              "│ (\u001b[38;5;33mInputLayer\u001b[0m)        │                   │            │                   │\n",
              "├─────────────────────┼───────────────────┼────────────┼───────────────────┤\n",
              "│ dense_21 (\u001b[38;5;33mDense\u001b[0m)    │ (\u001b[38;5;45mNone\u001b[0m, \u001b[38;5;34m128\u001b[0m)       │     \u001b[38;5;34m72,064\u001b[0m │ input_layer_3[\u001b[38;5;34m0\u001b[0m]… │\n",
              "├─────────────────────┼───────────────────┼────────────┼───────────────────┤\n",
              "│ dense_22 (\u001b[38;5;33mDense\u001b[0m)    │ (\u001b[38;5;45mNone\u001b[0m, \u001b[38;5;34m64\u001b[0m)        │      \u001b[38;5;34m8,256\u001b[0m │ dense_21[\u001b[38;5;34m0\u001b[0m][\u001b[38;5;34m0\u001b[0m]    │\n",
              "├─────────────────────┼───────────────────┼────────────┼───────────────────┤\n",
              "│ dense_23 (\u001b[38;5;33mDense\u001b[0m)    │ (\u001b[38;5;45mNone\u001b[0m, \u001b[38;5;34m10\u001b[0m)        │        \u001b[38;5;34m650\u001b[0m │ dense_22[\u001b[38;5;34m0\u001b[0m][\u001b[38;5;34m0\u001b[0m]    │\n",
              "├─────────────────────┼───────────────────┼────────────┼───────────────────┤\n",
              "│ dense_24 (\u001b[38;5;33mDense\u001b[0m)    │ (\u001b[38;5;45mNone\u001b[0m, \u001b[38;5;34m10\u001b[0m)        │        \u001b[38;5;34m650\u001b[0m │ dense_22[\u001b[38;5;34m0\u001b[0m][\u001b[38;5;34m0\u001b[0m]    │\n",
              "├─────────────────────┼───────────────────┼────────────┼───────────────────┤\n",
              "│ lambda_3 (\u001b[38;5;33mLambda\u001b[0m)   │ (\u001b[38;5;45mNone\u001b[0m, \u001b[38;5;34m10\u001b[0m)        │          \u001b[38;5;34m0\u001b[0m │ dense_23[\u001b[38;5;34m0\u001b[0m][\u001b[38;5;34m0\u001b[0m],   │\n",
              "│                     │                   │            │ dense_24[\u001b[38;5;34m0\u001b[0m][\u001b[38;5;34m0\u001b[0m]    │\n",
              "├─────────────────────┼───────────────────┼────────────┼───────────────────┤\n",
              "│ dense_25 (\u001b[38;5;33mDense\u001b[0m)    │ (\u001b[38;5;45mNone\u001b[0m, \u001b[38;5;34m64\u001b[0m)        │        \u001b[38;5;34m704\u001b[0m │ lambda_3[\u001b[38;5;34m0\u001b[0m][\u001b[38;5;34m0\u001b[0m]    │\n",
              "├─────────────────────┼───────────────────┼────────────┼───────────────────┤\n",
              "│ dense_26 (\u001b[38;5;33mDense\u001b[0m)    │ (\u001b[38;5;45mNone\u001b[0m, \u001b[38;5;34m128\u001b[0m)       │      \u001b[38;5;34m8,320\u001b[0m │ dense_25[\u001b[38;5;34m0\u001b[0m][\u001b[38;5;34m0\u001b[0m]    │\n",
              "├─────────────────────┼───────────────────┼────────────┼───────────────────┤\n",
              "│ dense_27 (\u001b[38;5;33mDense\u001b[0m)    │ (\u001b[38;5;45mNone\u001b[0m, \u001b[38;5;34m562\u001b[0m)       │     \u001b[38;5;34m72,498\u001b[0m │ dense_26[\u001b[38;5;34m0\u001b[0m][\u001b[38;5;34m0\u001b[0m]    │\n",
              "├─────────────────────┼───────────────────┼────────────┼───────────────────┤\n",
              "│ vae_loss_layer_3    │ (\u001b[38;5;45mNone\u001b[0m, \u001b[38;5;34m562\u001b[0m)       │          \u001b[38;5;34m0\u001b[0m │ input_layer_3[\u001b[38;5;34m0\u001b[0m]… │\n",
              "│ (\u001b[38;5;33mVAELossLayer\u001b[0m)      │                   │            │ dense_27[\u001b[38;5;34m0\u001b[0m][\u001b[38;5;34m0\u001b[0m],   │\n",
              "│                     │                   │            │ dense_23[\u001b[38;5;34m0\u001b[0m][\u001b[38;5;34m0\u001b[0m],   │\n",
              "│                     │                   │            │ dense_24[\u001b[38;5;34m0\u001b[0m][\u001b[38;5;34m0\u001b[0m]    │\n",
              "└─────────────────────┴───────────────────┴────────────┴───────────────────┘\n"
            ],
            "text/html": [
              "<pre style=\"white-space:pre;overflow-x:auto;line-height:normal;font-family:Menlo,'DejaVu Sans Mono',consolas,'Courier New',monospace\">┏━━━━━━━━━━━━━━━━━━━━━┳━━━━━━━━━━━━━━━━━━━┳━━━━━━━━━━━━┳━━━━━━━━━━━━━━━━━━━┓\n",
              "┃<span style=\"font-weight: bold\"> Layer (type)        </span>┃<span style=\"font-weight: bold\"> Output Shape      </span>┃<span style=\"font-weight: bold\">    Param # </span>┃<span style=\"font-weight: bold\"> Connected to      </span>┃\n",
              "┡━━━━━━━━━━━━━━━━━━━━━╇━━━━━━━━━━━━━━━━━━━╇━━━━━━━━━━━━╇━━━━━━━━━━━━━━━━━━━┩\n",
              "│ input_layer_3       │ (<span style=\"color: #00d7ff; text-decoration-color: #00d7ff\">None</span>, <span style=\"color: #00af00; text-decoration-color: #00af00\">562</span>)       │          <span style=\"color: #00af00; text-decoration-color: #00af00\">0</span> │ -                 │\n",
              "│ (<span style=\"color: #0087ff; text-decoration-color: #0087ff\">InputLayer</span>)        │                   │            │                   │\n",
              "├─────────────────────┼───────────────────┼────────────┼───────────────────┤\n",
              "│ dense_21 (<span style=\"color: #0087ff; text-decoration-color: #0087ff\">Dense</span>)    │ (<span style=\"color: #00d7ff; text-decoration-color: #00d7ff\">None</span>, <span style=\"color: #00af00; text-decoration-color: #00af00\">128</span>)       │     <span style=\"color: #00af00; text-decoration-color: #00af00\">72,064</span> │ input_layer_3[<span style=\"color: #00af00; text-decoration-color: #00af00\">0</span>]… │\n",
              "├─────────────────────┼───────────────────┼────────────┼───────────────────┤\n",
              "│ dense_22 (<span style=\"color: #0087ff; text-decoration-color: #0087ff\">Dense</span>)    │ (<span style=\"color: #00d7ff; text-decoration-color: #00d7ff\">None</span>, <span style=\"color: #00af00; text-decoration-color: #00af00\">64</span>)        │      <span style=\"color: #00af00; text-decoration-color: #00af00\">8,256</span> │ dense_21[<span style=\"color: #00af00; text-decoration-color: #00af00\">0</span>][<span style=\"color: #00af00; text-decoration-color: #00af00\">0</span>]    │\n",
              "├─────────────────────┼───────────────────┼────────────┼───────────────────┤\n",
              "│ dense_23 (<span style=\"color: #0087ff; text-decoration-color: #0087ff\">Dense</span>)    │ (<span style=\"color: #00d7ff; text-decoration-color: #00d7ff\">None</span>, <span style=\"color: #00af00; text-decoration-color: #00af00\">10</span>)        │        <span style=\"color: #00af00; text-decoration-color: #00af00\">650</span> │ dense_22[<span style=\"color: #00af00; text-decoration-color: #00af00\">0</span>][<span style=\"color: #00af00; text-decoration-color: #00af00\">0</span>]    │\n",
              "├─────────────────────┼───────────────────┼────────────┼───────────────────┤\n",
              "│ dense_24 (<span style=\"color: #0087ff; text-decoration-color: #0087ff\">Dense</span>)    │ (<span style=\"color: #00d7ff; text-decoration-color: #00d7ff\">None</span>, <span style=\"color: #00af00; text-decoration-color: #00af00\">10</span>)        │        <span style=\"color: #00af00; text-decoration-color: #00af00\">650</span> │ dense_22[<span style=\"color: #00af00; text-decoration-color: #00af00\">0</span>][<span style=\"color: #00af00; text-decoration-color: #00af00\">0</span>]    │\n",
              "├─────────────────────┼───────────────────┼────────────┼───────────────────┤\n",
              "│ lambda_3 (<span style=\"color: #0087ff; text-decoration-color: #0087ff\">Lambda</span>)   │ (<span style=\"color: #00d7ff; text-decoration-color: #00d7ff\">None</span>, <span style=\"color: #00af00; text-decoration-color: #00af00\">10</span>)        │          <span style=\"color: #00af00; text-decoration-color: #00af00\">0</span> │ dense_23[<span style=\"color: #00af00; text-decoration-color: #00af00\">0</span>][<span style=\"color: #00af00; text-decoration-color: #00af00\">0</span>],   │\n",
              "│                     │                   │            │ dense_24[<span style=\"color: #00af00; text-decoration-color: #00af00\">0</span>][<span style=\"color: #00af00; text-decoration-color: #00af00\">0</span>]    │\n",
              "├─────────────────────┼───────────────────┼────────────┼───────────────────┤\n",
              "│ dense_25 (<span style=\"color: #0087ff; text-decoration-color: #0087ff\">Dense</span>)    │ (<span style=\"color: #00d7ff; text-decoration-color: #00d7ff\">None</span>, <span style=\"color: #00af00; text-decoration-color: #00af00\">64</span>)        │        <span style=\"color: #00af00; text-decoration-color: #00af00\">704</span> │ lambda_3[<span style=\"color: #00af00; text-decoration-color: #00af00\">0</span>][<span style=\"color: #00af00; text-decoration-color: #00af00\">0</span>]    │\n",
              "├─────────────────────┼───────────────────┼────────────┼───────────────────┤\n",
              "│ dense_26 (<span style=\"color: #0087ff; text-decoration-color: #0087ff\">Dense</span>)    │ (<span style=\"color: #00d7ff; text-decoration-color: #00d7ff\">None</span>, <span style=\"color: #00af00; text-decoration-color: #00af00\">128</span>)       │      <span style=\"color: #00af00; text-decoration-color: #00af00\">8,320</span> │ dense_25[<span style=\"color: #00af00; text-decoration-color: #00af00\">0</span>][<span style=\"color: #00af00; text-decoration-color: #00af00\">0</span>]    │\n",
              "├─────────────────────┼───────────────────┼────────────┼───────────────────┤\n",
              "│ dense_27 (<span style=\"color: #0087ff; text-decoration-color: #0087ff\">Dense</span>)    │ (<span style=\"color: #00d7ff; text-decoration-color: #00d7ff\">None</span>, <span style=\"color: #00af00; text-decoration-color: #00af00\">562</span>)       │     <span style=\"color: #00af00; text-decoration-color: #00af00\">72,498</span> │ dense_26[<span style=\"color: #00af00; text-decoration-color: #00af00\">0</span>][<span style=\"color: #00af00; text-decoration-color: #00af00\">0</span>]    │\n",
              "├─────────────────────┼───────────────────┼────────────┼───────────────────┤\n",
              "│ vae_loss_layer_3    │ (<span style=\"color: #00d7ff; text-decoration-color: #00d7ff\">None</span>, <span style=\"color: #00af00; text-decoration-color: #00af00\">562</span>)       │          <span style=\"color: #00af00; text-decoration-color: #00af00\">0</span> │ input_layer_3[<span style=\"color: #00af00; text-decoration-color: #00af00\">0</span>]… │\n",
              "│ (<span style=\"color: #0087ff; text-decoration-color: #0087ff\">VAELossLayer</span>)      │                   │            │ dense_27[<span style=\"color: #00af00; text-decoration-color: #00af00\">0</span>][<span style=\"color: #00af00; text-decoration-color: #00af00\">0</span>],   │\n",
              "│                     │                   │            │ dense_23[<span style=\"color: #00af00; text-decoration-color: #00af00\">0</span>][<span style=\"color: #00af00; text-decoration-color: #00af00\">0</span>],   │\n",
              "│                     │                   │            │ dense_24[<span style=\"color: #00af00; text-decoration-color: #00af00\">0</span>][<span style=\"color: #00af00; text-decoration-color: #00af00\">0</span>]    │\n",
              "└─────────────────────┴───────────────────┴────────────┴───────────────────┘\n",
              "</pre>\n"
            ]
          },
          "metadata": {}
        },
        {
          "output_type": "display_data",
          "data": {
            "text/plain": [
              "\u001b[1m Total params: \u001b[0m\u001b[38;5;34m163,142\u001b[0m (637.27 KB)\n"
            ],
            "text/html": [
              "<pre style=\"white-space:pre;overflow-x:auto;line-height:normal;font-family:Menlo,'DejaVu Sans Mono',consolas,'Courier New',monospace\"><span style=\"font-weight: bold\"> Total params: </span><span style=\"color: #00af00; text-decoration-color: #00af00\">163,142</span> (637.27 KB)\n",
              "</pre>\n"
            ]
          },
          "metadata": {}
        },
        {
          "output_type": "display_data",
          "data": {
            "text/plain": [
              "\u001b[1m Trainable params: \u001b[0m\u001b[38;5;34m163,142\u001b[0m (637.27 KB)\n"
            ],
            "text/html": [
              "<pre style=\"white-space:pre;overflow-x:auto;line-height:normal;font-family:Menlo,'DejaVu Sans Mono',consolas,'Courier New',monospace\"><span style=\"font-weight: bold\"> Trainable params: </span><span style=\"color: #00af00; text-decoration-color: #00af00\">163,142</span> (637.27 KB)\n",
              "</pre>\n"
            ]
          },
          "metadata": {}
        },
        {
          "output_type": "display_data",
          "data": {
            "text/plain": [
              "\u001b[1m Non-trainable params: \u001b[0m\u001b[38;5;34m0\u001b[0m (0.00 B)\n"
            ],
            "text/html": [
              "<pre style=\"white-space:pre;overflow-x:auto;line-height:normal;font-family:Menlo,'DejaVu Sans Mono',consolas,'Courier New',monospace\"><span style=\"font-weight: bold\"> Non-trainable params: </span><span style=\"color: #00af00; text-decoration-color: #00af00\">0</span> (0.00 B)\n",
              "</pre>\n"
            ]
          },
          "metadata": {}
        },
        {
          "output_type": "stream",
          "name": "stdout",
          "text": [
            "Epoch 1/50\n",
            "11/11 - 5s - 499ms/step - loss: 5.9070 - val_loss: 35.7399\n",
            "Epoch 2/50\n",
            "11/11 - 0s - 8ms/step - loss: 2.0043 - val_loss: 20.1720\n",
            "Epoch 3/50\n",
            "11/11 - 0s - 9ms/step - loss: 1.5075 - val_loss: 25.7573\n",
            "Epoch 4/50\n",
            "11/11 - 0s - 10ms/step - loss: 1.2669 - val_loss: 26.2226\n",
            "Epoch 5/50\n",
            "11/11 - 0s - 12ms/step - loss: 1.1246 - val_loss: 19.0430\n",
            "Epoch 6/50\n",
            "11/11 - 0s - 13ms/step - loss: 1.0387 - val_loss: 15.3470\n",
            "Epoch 7/50\n",
            "11/11 - 0s - 12ms/step - loss: 0.9793 - val_loss: 13.7457\n",
            "Epoch 8/50\n",
            "11/11 - 0s - 8ms/step - loss: 0.9368 - val_loss: 12.5386\n",
            "Epoch 9/50\n",
            "11/11 - 0s - 8ms/step - loss: 0.9046 - val_loss: 11.0457\n",
            "Epoch 10/50\n",
            "11/11 - 0s - 9ms/step - loss: 0.8794 - val_loss: 11.2380\n",
            "Epoch 11/50\n",
            "11/11 - 0s - 8ms/step - loss: 0.8601 - val_loss: 10.1453\n",
            "Epoch 12/50\n",
            "11/11 - 0s - 8ms/step - loss: 0.8438 - val_loss: 10.3085\n",
            "Epoch 13/50\n",
            "11/11 - 0s - 13ms/step - loss: 0.8307 - val_loss: 9.5738\n",
            "Epoch 14/50\n",
            "11/11 - 0s - 14ms/step - loss: 0.8198 - val_loss: 8.9670\n",
            "Epoch 15/50\n",
            "11/11 - 0s - 11ms/step - loss: 0.8109 - val_loss: 9.2907\n",
            "Epoch 16/50\n",
            "11/11 - 0s - 12ms/step - loss: 0.8031 - val_loss: 8.4497\n",
            "Epoch 17/50\n",
            "11/11 - 0s - 13ms/step - loss: 0.7968 - val_loss: 7.7983\n",
            "Epoch 18/50\n",
            "11/11 - 0s - 13ms/step - loss: 0.7916 - val_loss: 7.5261\n",
            "Epoch 19/50\n",
            "11/11 - 0s - 9ms/step - loss: 0.7870 - val_loss: 7.3702\n",
            "Epoch 20/50\n",
            "11/11 - 0s - 13ms/step - loss: 0.7832 - val_loss: 7.1321\n",
            "Epoch 21/50\n",
            "11/11 - 0s - 8ms/step - loss: 0.7800 - val_loss: 7.1745\n",
            "Epoch 22/50\n",
            "11/11 - 0s - 12ms/step - loss: 0.7773 - val_loss: 7.0793\n",
            "Epoch 23/50\n",
            "11/11 - 0s - 16ms/step - loss: 0.7747 - val_loss: 6.9802\n",
            "Epoch 24/50\n",
            "11/11 - 0s - 9ms/step - loss: 0.7728 - val_loss: 6.8608\n",
            "Epoch 25/50\n",
            "11/11 - 0s - 8ms/step - loss: 0.7712 - val_loss: 6.6768\n",
            "Epoch 26/50\n",
            "11/11 - 0s - 9ms/step - loss: 0.7696 - val_loss: 6.5453\n",
            "Epoch 27/50\n",
            "11/11 - 0s - 9ms/step - loss: 0.7683 - val_loss: 6.4297\n",
            "Epoch 28/50\n",
            "11/11 - 0s - 8ms/step - loss: 0.7671 - val_loss: 6.3092\n",
            "Epoch 29/50\n",
            "11/11 - 0s - 19ms/step - loss: 0.7663 - val_loss: 6.2158\n",
            "Epoch 30/50\n",
            "11/11 - 0s - 15ms/step - loss: 0.7654 - val_loss: 6.1159\n",
            "Epoch 31/50\n",
            "11/11 - 0s - 14ms/step - loss: 0.7647 - val_loss: 5.9863\n",
            "Epoch 32/50\n",
            "11/11 - 0s - 28ms/step - loss: 0.7641 - val_loss: 5.8255\n",
            "Epoch 33/50\n",
            "11/11 - 0s - 24ms/step - loss: 0.7634 - val_loss: 5.6911\n",
            "Epoch 34/50\n",
            "11/11 - 0s - 12ms/step - loss: 0.7640 - val_loss: 5.6028\n",
            "Epoch 35/50\n",
            "11/11 - 0s - 13ms/step - loss: 0.7630 - val_loss: 5.4913\n",
            "Epoch 36/50\n",
            "11/11 - 0s - 27ms/step - loss: 0.7620 - val_loss: 5.3935\n",
            "Epoch 37/50\n",
            "11/11 - 0s - 16ms/step - loss: 0.7617 - val_loss: 5.2902\n",
            "Epoch 38/50\n",
            "11/11 - 0s - 21ms/step - loss: 0.7613 - val_loss: 5.1887\n",
            "Epoch 39/50\n",
            "11/11 - 0s - 13ms/step - loss: 0.7610 - val_loss: 5.0602\n",
            "Epoch 40/50\n",
            "11/11 - 0s - 13ms/step - loss: 0.7607 - val_loss: 4.9339\n",
            "Epoch 41/50\n",
            "11/11 - 0s - 8ms/step - loss: 0.7605 - val_loss: 4.8175\n",
            "Epoch 42/50\n",
            "11/11 - 0s - 9ms/step - loss: 0.7602 - val_loss: 4.7057\n",
            "Epoch 43/50\n",
            "11/11 - 0s - 12ms/step - loss: 0.7601 - val_loss: 4.5950\n",
            "Epoch 44/50\n",
            "11/11 - 0s - 9ms/step - loss: 0.7599 - val_loss: 4.5346\n",
            "Epoch 45/50\n",
            "11/11 - 0s - 8ms/step - loss: 0.7597 - val_loss: 4.4914\n",
            "Epoch 46/50\n",
            "11/11 - 0s - 13ms/step - loss: 0.7596 - val_loss: 4.4268\n",
            "Epoch 47/50\n",
            "11/11 - 0s - 13ms/step - loss: 0.7594 - val_loss: 4.3677\n",
            "Epoch 48/50\n",
            "11/11 - 0s - 13ms/step - loss: 0.7594 - val_loss: 4.3267\n",
            "Epoch 49/50\n",
            "11/11 - 0s - 8ms/step - loss: 0.7592 - val_loss: 4.2890\n",
            "Epoch 50/50\n",
            "11/11 - 0s - 8ms/step - loss: 0.7591 - val_loss: 4.2470\n",
            "\u001b[1m49/49\u001b[0m \u001b[32m━━━━━━━━━━━━━━━━━━━━\u001b[0m\u001b[37m\u001b[0m \u001b[1m1s\u001b[0m 13ms/step\n",
            "\n",
            "ROC AUC: 0.5505\n",
            "Best threshold: 0.6954, Best F1: 0.1652\n"
          ]
        }
      ]
    },
    {
      "cell_type": "code",
      "source": [
        "# Визуализация\n",
        "plt.figure(figsize=(14,5))\n",
        "\n",
        "plt.subplot(1,2,1)\n",
        "plt.title(\"Распределение ошибки реконструкции\")\n",
        "plt.hist(recon_error[y_test == 0], bins=50, alpha=0.6, label='Нормальные')\n",
        "plt.hist(recon_error[y_test == 1], bins=50, alpha=0.6, label='Аномалии')\n",
        "plt.legend()\n",
        "plt.xlabel(\"Ошибка реконструкции (MSE)\")\n",
        "\n",
        "plt.subplot(1,2,2)\n",
        "plt.title(\"ROC-кривая\")\n",
        "plt.plot(fpr, tpr, label=f\"AUC={auc:.4f}\")\n",
        "plt.plot([0,1],[0,1],'--', color='gray')\n",
        "plt.xlabel(\"False Positive Rate\")\n",
        "plt.ylabel(\"True Positive Rate\")\n",
        "plt.legend()\n",
        "\n",
        "plt.show()"
      ],
      "metadata": {
        "id": "IzchJVcepHCh",
        "outputId": "e5f318f8-dba4-4fae-924c-7f3a267d965d",
        "colab": {
          "base_uri": "https://localhost:8080/",
          "height": 487
        }
      },
      "execution_count": null,
      "outputs": [
        {
          "output_type": "display_data",
          "data": {
            "text/plain": [
              "<Figure size 1400x500 with 2 Axes>"
            ],
            "image/png": "[encoded data removed]"
          },
          "metadata": {}
        }
      ]
    }
  ]
}